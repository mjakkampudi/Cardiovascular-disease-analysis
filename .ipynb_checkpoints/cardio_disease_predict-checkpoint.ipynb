{
 "cells": [
  {
   "cell_type": "code",
   "execution_count": null,
   "id": "17399835",
   "metadata": {},
   "outputs": [],
   "source": [
    "#Import libraries needed\n",
    "import pandas as pd\n",
    "import numpy as np\n",
    "import seaborn as sns\n",
    "import matplotlib\n",
    "import matplotlib.pyplot as plt\n",
    "from piechart import corr_plot \n",
    "from piechart import glm_regression\n",
    "from sklearn.model_selection import train_test_split\n",
    "from sklearn.feature_selection import RFE\n",
    "from sklearn.feature_selection import SelectFromModel\n",
    "from sklearn.linear_model import Ridge, RidgeCV, Lasso, LassoCV\n",
    "from sklearn.metrics import mean_squared_error\n",
    "# %matplotlib inline #matplotlib formatting\n",
    "from sklearn.utils import resample\n",
    "\n",
    "\n",
    "cardio = pd.read_csv( \"~./cardio_disease.csv\", sep = ';') #import csv file with commas as delimeter"
   ]
  },
  {
   "cell_type": "code",
   "execution_count": null,
   "id": "0ba5d22f",
   "metadata": {},
   "outputs": [],
   "source": [
    "cardio.head(10) #show top 10 records"
   ]
  },
  {
   "cell_type": "code",
   "execution_count": null,
   "id": "633ae7e5",
   "metadata": {},
   "outputs": [],
   "source": [
    "#check for missing columns\n",
    "for col in cardio.columns:\n",
    "    pct_missing = np.mean(cardio[col].isnull())\n",
    "    print('{} - {}%'.format(col, round(pct_missing*100)))"
   ]
  },
  {
   "cell_type": "code",
   "execution_count": null,
   "id": "64a8207b",
   "metadata": {},
   "outputs": [],
   "source": [
    "cardio.duplicated().sum() #check for number of duplicate rows"
   ]
  },
  {
   "cell_type": "code",
   "execution_count": null,
   "id": "d8806cc4",
   "metadata": {},
   "outputs": [],
   "source": [
    "cardio.drop_duplicates(inplace=True) #drop duplicate rows"
   ]
  },
  {
   "cell_type": "code",
   "execution_count": null,
   "id": "d63e8a82",
   "metadata": {},
   "outputs": [],
   "source": [
    "cardio.duplicated().sum()"
   ]
  },
  {
   "cell_type": "code",
   "execution_count": null,
   "id": "aa03edd7",
   "metadata": {},
   "outputs": [],
   "source": [
    "cardio.info #review info"
   ]
  },
  {
   "cell_type": "code",
   "execution_count": null,
   "id": "bd6ff75e",
   "metadata": {},
   "outputs": [],
   "source": [
    "cardio.insert(4, 'BMI', round((cardio['WEIGHT']/(cardio['HEIGHT']/100)**2),2)) #add BMI calculated column"
   ]
  },
  {
   "cell_type": "code",
   "execution_count": null,
   "id": "a614bee5",
   "metadata": {},
   "outputs": [],
   "source": [
    "cardio.info #review info with new column"
   ]
  },
  {
   "cell_type": "code",
   "execution_count": null,
   "id": "3d3401fd",
   "metadata": {},
   "outputs": [],
   "source": [
    "gender = cardio.groupby([\"GENDER\"]).size().reset_index(name=\"Cnt\") #review gender"
   ]
  },
  {
   "cell_type": "code",
   "execution_count": null,
   "id": "42d241ac",
   "metadata": {},
   "outputs": [],
   "source": [
    "gender"
   ]
  },
  {
   "cell_type": "code",
   "execution_count": null,
   "id": "eadd9301",
   "metadata": {},
   "outputs": [],
   "source": [
    "age = cardio.groupby([\"AGE\"]).size().reset_index(name=\"Cnt\")"
   ]
  },
  {
   "cell_type": "code",
   "execution_count": null,
   "id": "cdc5dd50",
   "metadata": {},
   "outputs": [],
   "source": [
    "age"
   ]
  },
  {
   "cell_type": "code",
   "execution_count": null,
   "id": "f7b680aa",
   "metadata": {},
   "outputs": [],
   "source": [
    "cardio.describe()"
   ]
  },
  {
   "cell_type": "code",
   "execution_count": null,
   "id": "a43324d3",
   "metadata": {},
   "outputs": [],
   "source": [
    "fig, axes = plt.subplots(1,3, figsize=(18,4))\n",
    "sns.histplot(cardio.AGE, bins=10, kde=True, ax=axes[0])\n",
    "sns.histplot(cardio.HEIGHT, bins=10, kde=True, ax=axes[1])\n",
    "sns.histplot(cardio.WEIGHT, bins=10, kde=True, ax=axes[2])"
   ]
  },
  {
   "cell_type": "code",
   "execution_count": null,
   "id": "0ee7f0e9",
   "metadata": {},
   "outputs": [],
   "source": [
    "sns.histplot(cardio.AGE, bins=6)"
   ]
  },
  {
   "cell_type": "code",
   "execution_count": null,
   "id": "03a25c89",
   "metadata": {},
   "outputs": [],
   "source": [
    "cardio.AGE.min()"
   ]
  },
  {
   "cell_type": "code",
   "execution_count": null,
   "id": "e1b637a6",
   "metadata": {},
   "outputs": [],
   "source": [
    "cardio.AGE.max()"
   ]
  },
  {
   "cell_type": "code",
   "execution_count": null,
   "id": "a07b965f",
   "metadata": {},
   "outputs": [],
   "source": [
    "fig, ax = plt.subplots(ncols=2, figsize=(20,10))\n",
    "sns.boxplot(data=cardio, x='GENDER', y='AGE', ax=ax[0])\n",
    "sns.boxplot(data=cardio, x='GENDER', y='BMI', ax=ax[1])"
   ]
  },
  {
   "cell_type": "code",
   "execution_count": null,
   "id": "adc61194",
   "metadata": {},
   "outputs": [],
   "source": [
    "sns.boxplot(data=cardio, x='GENDER', y='WEIGHT')"
   ]
  },
  {
   "cell_type": "code",
   "execution_count": null,
   "id": "b3d2f3f4",
   "metadata": {},
   "outputs": [],
   "source": [
    "sns.histplot(cardio.HEIGHT, bins=10)"
   ]
  },
  {
   "cell_type": "code",
   "execution_count": null,
   "id": "8b70e4c3",
   "metadata": {},
   "outputs": [],
   "source": [
    "sns.histplot(cardio.WEIGHT, bins=7)"
   ]
  },
  {
   "cell_type": "code",
   "execution_count": null,
   "id": "64309cad",
   "metadata": {},
   "outputs": [],
   "source": [
    "corr_plot(cardio) #passing the cardio dataframe to the correlation plot function. Output is a heatmap"
   ]
  },
  {
   "cell_type": "code",
   "execution_count": null,
   "id": "05f85315",
   "metadata": {},
   "outputs": [],
   "source": [
    "cardio_majority = cardio[cardio.CARDIO_DISEASE == 1]\n",
    "cardio_minority = cardio[cardio.CARDIO_DISEASE == 0]\n",
    "cardio_minority_upsampled = resample(cardio_minority, replace=True, n_samples=33053, random_state=34)\n",
    "cardio_fin = pd.concat([cardio_majority, cardio_minority_upsampled])\n",
    "print(cardio_fin.CARDIO_DISEASE.value_counts())"
   ]
  },
  {
   "cell_type": "code",
   "execution_count": null,
   "id": "a0bcb608",
   "metadata": {},
   "outputs": [],
   "source": [
    "X = cardio.drop(columns= ['CARDIO_DISEASE'], axis=1) \n",
    "y = cardio.CARDIO_DISEASE.values\n",
    "X_train, X_test, y_train, y_test = train_test_split(X, y, test_size = 0.40,stratify=y, shuffle=True,random_state=1)"
   ]
  },
  {
   "cell_type": "code",
   "execution_count": null,
   "id": "6f484cba",
   "metadata": {},
   "outputs": [],
   "source": [
    "logistic_regression = glm_regression(X_train, y_train, X_test,y_test)"
   ]
  },
  {
   "cell_type": "code",
   "execution_count": null,
   "id": "1e189e95",
   "metadata": {},
   "outputs": [],
   "source": [
    "rfe_selector = RFE(estimator=logistic_regression, n_features_to_select=13, step=10, verbose=5)\n",
    "rfe_selector.fit(X, y)\n",
    "rfe_support = rfe_selector.get_support()\n",
    "rfe_feature = X.loc[:,rfe_support].columns.tolist()\n",
    "print(str(len(rfe_feature)), 'selected features')\n",
    "print(rfe_feature)"
   ]
  },
  {
   "cell_type": "code",
   "execution_count": null,
   "id": "b1a79d47",
   "metadata": {},
   "outputs": [],
   "source": [
    "rdg = Ridge()\n",
    "alphas = 10**np.linspace(10,-2,100)*0.5\n",
    "ridge_cv = RidgeCV(alphas = alphas, scoring = 'neg_mean_squared_error', normalize = True)\n",
    "ridge_cv.fit(X_train, y_train)\n",
    "ridge_cv.alpha_"
   ]
  },
  {
   "cell_type": "code",
   "execution_count": null,
   "id": "b1b21f28",
   "metadata": {},
   "outputs": [],
   "source": [
    "ridge_reg = Ridge(alpha = ridge_cv.alpha_, normalize = True)\n",
    "ridge_reg.fit(X_train, y_train)\n",
    "mean_squared_error(y_test, ridge_reg.predict(X_test))"
   ]
  },
  {
   "cell_type": "code",
   "execution_count": null,
   "id": "80630948",
   "metadata": {},
   "outputs": [],
   "source": [
    "ridge_reg.fit(X, y)\n",
    "pd.Series(ridge_reg.coef_, index = X.columns)"
   ]
  },
  {
   "cell_type": "code",
   "execution_count": null,
   "id": "7225ef98",
   "metadata": {},
   "outputs": [],
   "source": [
    "lasso = Lasso(max_iter = 10000, normalize = True)\n",
    "lasso_cv = LassoCV(alphas = None, cv = 5, max_iter = 100000, normalize = True)\n",
    "lasso_cv.fit(X_train, y_train)\n",
    "lasso.set_params(alpha=lasso_cv.alpha_)\n",
    "lasso.fit(X_train, y_train)\n",
    "y_preds_lasso = lasso.predict(X_test)\n",
    "mean_squared_error(y_test, lasso.predict(X_test))"
   ]
  },
  {
   "cell_type": "code",
   "execution_count": null,
   "id": "4453062c",
   "metadata": {},
   "outputs": [],
   "source": [
    "lasso_cv.alpha_"
   ]
  },
  {
   "cell_type": "code",
   "execution_count": null,
   "id": "01a7009a",
   "metadata": {},
   "outputs": [],
   "source": [
    "pd.Series(lasso.coef_, index=X.columns)\n",
    "\n"
   ]
  },
  {
   "cell_type": "code",
   "execution_count": null,
   "id": "f976a77d",
   "metadata": {},
   "outputs": [],
   "source": [
    "from sklearn.metrics import r2_score\n",
    "r2_score(y_test, y_preds_lasso)"
   ]
  },
  {
   "cell_type": "code",
   "execution_count": null,
   "id": "7c1ad18d",
   "metadata": {},
   "outputs": [],
   "source": []
  }
 ],
 "metadata": {
  "kernelspec": {
   "display_name": "Python 3 (ipykernel)",
   "language": "python",
   "name": "python3"
  },
  "language_info": {
   "codemirror_mode": {
    "name": "ipython",
    "version": 3
   },
   "file_extension": ".py",
   "mimetype": "text/x-python",
   "name": "python",
   "nbconvert_exporter": "python",
   "pygments_lexer": "ipython3",
   "version": "3.10.8"
  }
 },
 "nbformat": 4,
 "nbformat_minor": 5
}
